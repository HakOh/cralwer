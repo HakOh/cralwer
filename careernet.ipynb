{
 "metadata": {
  "language_info": {
   "codemirror_mode": {
    "name": "ipython",
    "version": 3
   },
   "file_extension": ".py",
   "mimetype": "text/x-python",
   "name": "python",
   "nbconvert_exporter": "python",
   "pygments_lexer": "ipython3",
   "version": "3.9.2"
  },
  "orig_nbformat": 4,
  "kernelspec": {
   "name": "python3",
   "display_name": "Python 3.9.2 64-bit"
  },
  "interpreter": {
   "hash": "4cd7ab41f5fca4b9b44701077e38c5ffd31fe66a6cab21e0214b68d958d0e462"
  }
 },
 "nbformat": 4,
 "nbformat_minor": 2,
 "cells": [
  {
   "cell_type": "code",
   "execution_count": 2,
   "metadata": {},
   "outputs": [],
   "source": [
    "from selenium import webdriver\n",
    "from selenium.webdriver.common.by import By\n",
    "from selenium.webdriver.common.keys import Keys\n",
    "from selenium.webdriver.support.ui import WebDriverWait\n",
    "from selenium.webdriver.support import expected_conditions as EC\n",
    "\n",
    "from bs4 import BeautifulSoup\n",
    "from urllib.request import urlopen\n",
    "\n",
    "import requests\n",
    "import json\n",
    "\n",
    "chrome_options = webdriver.ChromeOptions()\n",
    "chrome_options.add_argument('--headless')\n",
    "chrome_options.add_argument('--no-sandbox')\n",
    "chrome_options.add_argument('--disable-dev-shm-usage')"
   ]
  },
  {
   "cell_type": "code",
   "execution_count": 8,
   "metadata": {},
   "outputs": [
    {
     "output_type": "stream",
     "name": "stdout",
     "text": [
      "평균연봉 : 3000\n일자리전망 : 매우좋음\n발전가능성 : 좋음\n고용평동 : \n"
     ]
    }
   ],
   "source": [
    "# 직업 하나의 데이터 \n",
    "\n",
    "BASE_URL = 'https://www.career.go.kr/cnet/front/base/job/jobList.do#tab1'\n",
    "\n",
    "driver = webdriver.Chrome('/Users/hakoh/Desktop/chromedriver', options=chrome_options)\n",
    "driver.get(BASE_URL)\n",
    "\n",
    "\n",
    "# selenium 을 이용한 데이터 가져오기\n",
    "driver.find_element_by_xpath('//*[@id=\"JOB_DETAIL_LIST\"]/li[1]/p[1]/strong/a').click()\n",
    "\n",
    "salary_avg = driver.find_element_by_xpath('//*[@id=\"frm\"]/div[3]/ul/li[1]/span/strong').text # 평균연봉\n",
    "\n",
    "future = driver.find_element_by_xpath('//*[@id=\"frm\"]/div[3]/ul/li[2]/span/strong').text # 일자리전망\n",
    "\n",
    "ability = driver.find_element_by_xpath('//*[@id=\"frm\"]/div[3]/ul/li[3]/span/strong').text # 발전가능성\n",
    "\n",
    "equal = driver.find_element_by_xpath('//*[@id=\"frm\"]/div[3]/ul/li[4]/span/strong').text # 고용평등\n",
    "\n",
    "print('평균연봉 :', salary_avg)\n",
    "print('일자리전망 :', future)\n",
    "print('발전가능성 :', ability)\n",
    "print('고용평동 :', equal)\n",
    "\n",
    "\n"
   ]
  },
  {
   "cell_type": "code",
   "execution_count": 9,
   "metadata": {},
   "outputs": [
    {
     "output_type": "stream",
     "name": "stdout",
     "text": [
      "유사직업명: 특정직국가공무원\n하는 일: 군무원은 군부대에서 군인과 함께 근무하는 특정직 국가 공무원으로서 담당 직렬에 따라 기술, 연구, 일반 행정, 이미용 등에 대한 업무를 수행한다.\n적성 및 흥미: 국민에 대한 봉사자로서 공공의 이익을 실현하고 올바르게 공무를 수행해나갈 수 있는 직업윤리정신이 요구된다.업무분야에 대한 전문지식을 활용하여 보고서 및 문서를 작성, 관리할 수 있는 사무능력과 자신의 의사를 명확히 표현할 수 있는 발표능력이 요구된다.\n표준직업분류: 3113병무행정 사무원\n고용직업분류: 0253병무행정 사무원\n"
     ]
    }
   ],
   "source": [
    "# bs4를 이용한 데이터 가져요기\n",
    "\n",
    "html = driver.page_source\n",
    "soup = BeautifulSoup(html, 'html.parser')\n",
    "\n",
    "view_list = soup.select('div > p.word_txt')\n",
    "similar_job = view_list[0].text\n",
    "\n",
    "view_list_2 = soup.select('#tab1 > ul.word_ul')\n",
    "do = view_list_2[0].get_text(\"\", strip=True)\n",
    "fun = view_list_2[1].get_text(\"\", strip=True)\n",
    "\n",
    "classify = soup.select('#tab1 > dl > dd')\n",
    "classify_1 = classify[0].get_text(\"\", strip=True)\n",
    "classify_2 = classify[1].get_text(\"\", strip=True)\n",
    "\n",
    "print('유사직업명:', similar_job)\n",
    "print('하는 일:', do)\n",
    "print('적성 및 흥미:', fun)\n",
    "print('표준직업분류:', classify_1)\n",
    "print('고용직업분류:', classify_2)"
   ]
  },
  {
   "cell_type": "code",
   "execution_count": null,
   "metadata": {},
   "outputs": [],
   "source": []
  }
 ]
}